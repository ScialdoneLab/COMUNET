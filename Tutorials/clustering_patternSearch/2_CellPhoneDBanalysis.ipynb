{
 "cells": [
  {
   "cell_type": "markdown",
   "metadata": {
    "kernel": "SoS"
   },
   "source": [
    "# Install CellPhoneDB"
   ]
  },
  {
   "cell_type": "markdown",
   "metadata": {
    "kernel": "SoS"
   },
   "source": [
    "To install CellPhoneDB please follow the instructions [here](https://github.com/Teichlab/cellphonedb). "
   ]
  },
  {
   "cell_type": "markdown",
   "metadata": {
    "kernel": "SoS"
   },
   "source": [
    "You can either run the CellPhoneDB algorithm from the terminal, or from the online application, or from this notebook. To be able to run CellPhoneDB from the notebook, please make sure that the CellPhoneDB package is installed in \"/anaconda3/lib/python3.7/site-packages\". To be able to run CellPhoneDB from the notebook, you will need to add cpdb-vent as a kernel to jupyter notebook. To do this, please type the following lines in your terminal:\n",
    "<br>\n",
    "<br>\n",
    "python -m ipykernel install --user --name=cpdb-venv\n",
    "<br>\n",
    "jupyter kernelspec list"
   ]
  },
  {
   "cell_type": "markdown",
   "metadata": {
    "kernel": "SoS"
   },
   "source": [
    "# Run CellPhoneDB"
   ]
  },
  {
   "cell_type": "markdown",
   "metadata": {
    "kernel": "SoS"
   },
   "source": [
    "## Libraries"
   ]
  },
  {
   "cell_type": "markdown",
   "metadata": {
    "kernel": "SoS"
   },
   "source": [
    "Import python libraries:"
   ]
  },
  {
   "cell_type": "code",
   "execution_count": 1,
   "metadata": {
    "ExecuteTime": {
     "end_time": "2019-10-09T10:23:28.126868Z",
     "start_time": "2019-10-09T10:23:28.068Z"
    },
    "kernel": "SoS"
   },
   "outputs": [],
   "source": [
    "import sys\n",
    "import subprocess\n",
    "import os"
   ]
  },
  {
   "cell_type": "markdown",
   "metadata": {
    "kernel": "R"
   },
   "source": [
    "## Input variables"
   ]
  },
  {
   "cell_type": "markdown",
   "metadata": {
    "kernel": "cpdb-venv"
   },
   "source": [
    "The input data should have the following format: \n",
    "<br>\n",
    "The count matrix should be a .txt file and have gene names as row names and cell IDs as colomn names. The count matrix should contain normalized values. \n",
    "<br>\n",
    "The annotation file should be a .txt file and contain a colomn \"Cell\", which contains cell IDs (as character strings), and \"cell_type\", which contains cell type annotation (as character strings)."
   ]
  },
  {
   "cell_type": "markdown",
   "metadata": {
    "kernel": "R"
   },
   "source": [
    "Please additionally download (to your working directory) gene_input.csv and complex_input.csv from the [CellPhoneDB site](https://www.cellphonedb.org/downloads)."
   ]
  },
  {
   "cell_type": "markdown",
   "metadata": {
    "kernel": "SoS"
   },
   "source": [
    "### Define paths and input variables"
   ]
  },
  {
   "cell_type": "code",
   "execution_count": 2,
   "metadata": {
    "ExecuteTime": {
     "end_time": "2019-10-09T10:23:29.004104Z",
     "start_time": "2019-10-09T10:23:28.073Z"
    },
    "kernel": "cpdb-venv"
   },
   "outputs": [],
   "source": [
    "import os\n",
    "my_path=os.getcwd()\n",
    "\n",
    "# annotation path name\n",
    "anno_path = my_path\n",
    "# annotation file name\n",
    "annotation = \"/anno_filtered.txt\"\n",
    "annotation = anno_path + annotation\n",
    "\n",
    "# counts path name\n",
    "counts_path = my_path\n",
    "# counts file name\n",
    "counts = \"/counts_filtered_norm.txt\"\n",
    "counts = counts_path + counts\n",
    "\n",
    "# path to CellPhoneDB package\n",
    "# NOTE: PLEASE PUT IN THE PATH TO cpdb-venv DIRECTORY!!!\n",
    "cpdb_path = \"/Users/MariaSolovey/cpdb-venv\"\n",
    "\n",
    "# Gene name input for --counts-data parameter:[ensembl, gene_name, hgnc_symbol]\n",
    "gene_input_type = \"gene_name\"\n",
    "\n",
    "# wether to subsample the data\n",
    "subsample = False#True\n",
    "#subsamplingNumCells = 1500\n",
    "\n",
    "# cpdb output directory name\n",
    "output_path = my_path\n",
    "cpdb_output = output_path + \"/cpdb_output\""
   ]
  },
  {
   "cell_type": "markdown",
   "metadata": {
    "kernel": "R"
   },
   "source": [
    "### CellPhoneDB analysis"
   ]
  },
  {
   "cell_type": "markdown",
   "metadata": {
    "kernel": "R"
   },
   "source": [
    "Run CellPhoneDB algorithm."
   ]
  },
  {
   "cell_type": "code",
   "execution_count": 3,
   "metadata": {
    "ExecuteTime": {
     "end_time": "2019-10-09T10:36:13.738134Z",
     "start_time": "2019-10-09T10:23:28.079Z"
    },
    "kernel": "cpdb-venv"
   },
   "outputs": [],
   "source": [
    "import os\n",
    "# create cpdb output directory\n",
    "os.mkdir = cpdb_output\n",
    "# activate of cpdb-venv\n",
    "act = \"source \" + cpdb_path + \"/bin/activate\" \n",
    "# activate and run cellphonedb analysis\n",
    "if subsample: \n",
    "    os.system(\"{source} && cellphonedb method statistical_analysis {anno} {cnts} --counts-data {gnt} --subsampling --subsampling-log false --subsampling-num-cells {subNC} --output-path cpdb_output > log.txt\".format(source=act, anno=annotation, cnts=counts, gnt=gene_input_type, subNC=subsamplingNumCells))\n",
    "else: \n",
    "    os.system(\"{source} && cellphonedb method statistical_analysis {anno} {cnts} --counts-data {gnt} --output-path cpdb_output > log.txt\".format(source=act, anno=annotation, cnts=counts, gnt=gene_input_type))\n",
    "    "
   ]
  },
  {
   "cell_type": "markdown",
   "metadata": {
    "kernel": "cpdb-venv"
   },
   "source": [
    "The CellPhoneDB might produce slightly different results if rerun, which might alter the output of the next step. To get results identical to those in the paper, please use the cpdb_output_embryo results provided."
   ]
  },
  {
   "cell_type": "markdown",
   "metadata": {
    "kernel": "cpdb-venv"
   },
   "source": []
  }
 ],
 "metadata": {
  "kernelspec": {
   "display_name": "SoS",
   "language": "sos",
   "name": "sos"
  },
  "language_info": {
   "codemirror_mode": "sos",
   "file_extension": ".sos",
   "mimetype": "text/x-sos",
   "name": "sos",
   "nbconvert_exporter": "sos_notebook.converter.SoS_Exporter",
   "pygments_lexer": "sos"
  },
  "sos": {
   "kernels": [
    [
     "R",
     "ir",
     "R",
     "#DCDCDA",
     "r"
    ],
    [
     "SoS",
     "sos",
     "",
     "",
     "sos"
    ],
    [
     "cpdb-venv",
     "cpdb-venv",
     "python",
     "",
     {
      "name": "ipython",
      "version": 3
     }
    ]
   ],
   "panel": {
    "displayed": true,
    "height": 0
   },
   "version": "0.19.15"
  },
  "toc": {
   "base_numbering": 1,
   "nav_menu": {},
   "number_sections": true,
   "sideBar": true,
   "skip_h1_title": false,
   "title_cell": "Table of Contents",
   "title_sidebar": "Contents",
   "toc_cell": false,
   "toc_position": {},
   "toc_section_display": true,
   "toc_window_display": false
  }
 },
 "nbformat": 4,
 "nbformat_minor": 2
}
